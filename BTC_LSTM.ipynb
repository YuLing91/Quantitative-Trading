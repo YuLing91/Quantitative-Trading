{
 "cells": [
  {
   "cell_type": "markdown",
   "metadata": {},
   "source": [
    "## Using LSTM to predict Bit Coin Currency\n",
    "\n",
    "Edited by Una\n",
    "Date: 2021-07-14\n"
   ]
  },
  {
   "cell_type": "markdown",
   "metadata": {},
   "source": [
    "#### Install packages:\n",
    "\n",
    "> pip3 install -r requirement.txt\n",
    "\n",
    "requirement.txt\n",
    "\n",
    "numpy\n",
    "pandas\n",
    "matplotlib\n",
    "sklearn\n",
    "torch\n",
    "seaborn"
   ]
  },
  {
   "cell_type": "code",
   "execution_count": 1,
   "metadata": {},
   "outputs": [],
   "source": [
    "import numpy as np\n",
    "import pandas as pd\n",
    "import matplotlib.pyplot as plt\n",
    "from sklearn.preprocessing import MinMaxScaler\n",
    "import torch\n",
    "import math, time\n",
    "import torch.nn as nn\n",
    "from sklearn.metrics import mean_squared_error"
   ]
  },
  {
   "cell_type": "markdown",
   "metadata": {},
   "source": [
    "## 1. Loadin data and data preprocessing\n",
    "\n",
    "normalization for close price : \n",
    "\n",
    "[MinMaxScaler](https://scikit-learn.org/stable/modules/generated/sklearn.preprocessing.MinMaxScaler.html)"
   ]
  },
  {
   "cell_type": "code",
   "execution_count": 2,
   "metadata": {},
   "outputs": [],
   "source": [
    "### Loadin the csv data\n",
    "dataset = pd.read_csv(\"BTC.csv\", header=None, names = [\"date\",\"close\",\"vol\"], index_col=0, parse_dates=True)"
   ]
  },
  {
   "cell_type": "code",
   "execution_count": 3,
   "metadata": {},
   "outputs": [
    {
     "name": "stdout",
     "output_type": "stream",
     "text": [
      "<class 'pandas.core.frame.DataFrame'>\n",
      "DatetimeIndex: 1089 entries, 2017-07-23 to 2020-07-15\n",
      "Data columns (total 2 columns):\n",
      " #   Column  Non-Null Count  Dtype  \n",
      "---  ------  --------------  -----  \n",
      " 0   close   1089 non-null   float64\n",
      " 1   vol     1089 non-null   float64\n",
      "dtypes: float64(2)\n",
      "memory usage: 25.5 KB\n",
      "None\n"
     ]
    },
    {
     "data": {
      "text/html": [
       "<div>\n",
       "<style scoped>\n",
       "    .dataframe tbody tr th:only-of-type {\n",
       "        vertical-align: middle;\n",
       "    }\n",
       "\n",
       "    .dataframe tbody tr th {\n",
       "        vertical-align: top;\n",
       "    }\n",
       "\n",
       "    .dataframe thead th {\n",
       "        text-align: right;\n",
       "    }\n",
       "</style>\n",
       "<table border=\"1\" class=\"dataframe\">\n",
       "  <thead>\n",
       "    <tr style=\"text-align: right;\">\n",
       "      <th></th>\n",
       "      <th>close</th>\n",
       "      <th>vol</th>\n",
       "    </tr>\n",
       "    <tr>\n",
       "      <th>date</th>\n",
       "      <th></th>\n",
       "      <th></th>\n",
       "    </tr>\n",
       "  </thead>\n",
       "  <tbody>\n",
       "    <tr>\n",
       "      <th>2017-07-23</th>\n",
       "      <td>2730.40</td>\n",
       "      <td>1.072840e+09</td>\n",
       "    </tr>\n",
       "    <tr>\n",
       "      <th>2017-07-24</th>\n",
       "      <td>2754.86</td>\n",
       "      <td>8.664740e+08</td>\n",
       "    </tr>\n",
       "    <tr>\n",
       "      <th>2017-07-25</th>\n",
       "      <td>2576.48</td>\n",
       "      <td>1.460090e+09</td>\n",
       "    </tr>\n",
       "    <tr>\n",
       "      <th>2017-07-26</th>\n",
       "      <td>2529.45</td>\n",
       "      <td>9.374040e+08</td>\n",
       "    </tr>\n",
       "    <tr>\n",
       "      <th>2017-07-27</th>\n",
       "      <td>2671.78</td>\n",
       "      <td>7.891040e+08</td>\n",
       "    </tr>\n",
       "  </tbody>\n",
       "</table>\n",
       "</div>"
      ],
      "text/plain": [
       "              close           vol\n",
       "date                             \n",
       "2017-07-23  2730.40  1.072840e+09\n",
       "2017-07-24  2754.86  8.664740e+08\n",
       "2017-07-25  2576.48  1.460090e+09\n",
       "2017-07-26  2529.45  9.374040e+08\n",
       "2017-07-27  2671.78  7.891040e+08"
      ]
     },
     "execution_count": 3,
     "metadata": {},
     "output_type": "execute_result"
    }
   ],
   "source": [
    "print(dataset.info())\n",
    "dataset.head()"
   ]
  },
  {
   "cell_type": "code",
   "execution_count": 4,
   "metadata": {},
   "outputs": [],
   "source": [
    "## Close price normalization to 0-1\n",
    "scaler = MinMaxScaler()# default feature_range=(0,1)\n",
    "dataset_scaled = scaler.fit_transform(dataset.close.values.reshape(-1,1))"
   ]
  },
  {
   "cell_type": "code",
   "execution_count": 5,
   "metadata": {},
   "outputs": [],
   "source": [
    "## Convert the normalized close price to a vector of lookback-dimension with lookback history data\n",
    "def split_data(stock, lookback):\n",
    "    data = []\n",
    "    for index in range(len(stock) - lookback):\n",
    "        data.append(stock[index: index + lookback])\n",
    "\n",
    "    data = np.array(data)\n",
    "    train_val_slip = int(0.8* data.shape[0])\n",
    "\n",
    "\n",
    "    x_train = data[:train_val_slip,:-1,:]\n",
    "    y_train = data[:train_val_slip,-1,:]\n",
    "\n",
    "    x_test = data[train_val_slip:,:-1]\n",
    "    y_test = data[train_val_slip:,-1,:]\n",
    "\n",
    "    return [x_train, y_train, x_test, y_test]\n",
    "\n",
    "lookback = 20 \n",
    "x_train, y_train, x_test, y_test = split_data(dataset_scaled, lookback)\n",
    "x_train_torch = torch.from_numpy(x_train).type(torch.Tensor)\n",
    "x_test_torch = torch.from_numpy(x_test).type(torch.Tensor)\n",
    "y_train_torch = torch.from_numpy(y_train).type(torch.Tensor)\n",
    "y_test_torch = torch.from_numpy(y_test).type(torch.Tensor)"
   ]
  },
  {
   "cell_type": "markdown",
   "metadata": {},
   "source": [
    "## 2. Creat NN model"
   ]
  },
  {
   "cell_type": "code",
   "execution_count": 6,
   "metadata": {},
   "outputs": [],
   "source": [
    "# 构造模型\n",
    "class LSTM(nn.Module):\n",
    "    # __init__定义网络中的参数和模型框架，初始化传入输入、隐藏层、输出三个参数\n",
    "    def __init__(self, input_dim, hidden_dim, num_layers, output_dim):\n",
    "        super(LSTM, self).__init__()#继承__init__功能\n",
    "        self.hidden_dim = hidden_dim\n",
    "        self.num_layers = num_layers\n",
    "        self.lstm = nn.LSTM(input_dim, hidden_dim, num_layers, batch_first=True)#隐藏层输出\n",
    "        self.fc = nn.Linear(hidden_dim, output_dim)#输出层输出\n",
    "\n",
    "    #forward定义传输数据的连接，即网络或者模型中的走向，传入计算值的函数，正向传播输入值，神经网络分析出输出值\n",
    "    def forward(self, x):\n",
    "        # 用零初始化隐藏状态\n",
    "        h0 = torch.zeros(self.num_layers, x.size(0), self.hidden_dim).requires_grad_()\n",
    "        # 初始化细胞单元状态\n",
    "        c0 = torch.zeros(self.num_layers, x.size(0), self.hidden_dim).requires_grad_()\n",
    "        #detach分离，截断时间反向传播BPTT\n",
    "        out, (hn, cn) = self.lstm(x, (h0.detach(), c0.detach()))\n",
    "        # out[:, -1, :]只需要最后一步的隐藏状态\n",
    "        out = self.fc(out[:, -1, :])\n",
    "        return out\n"
   ]
  },
  {
   "cell_type": "code",
   "execution_count": 7,
   "metadata": {},
   "outputs": [],
   "source": [
    "input_dim = 1\n",
    "hidden_dim = 64\n",
    "num_layers = 2\n",
    "output_dim = 1\n",
    "model = LSTM(input_dim=input_dim, hidden_dim=hidden_dim, output_dim=output_dim, num_layers=num_layers)"
   ]
  },
  {
   "cell_type": "markdown",
   "metadata": {},
   "source": [
    "## 3. Train the model"
   ]
  },
  {
   "cell_type": "code",
   "execution_count": 8,
   "metadata": {},
   "outputs": [],
   "source": [
    "num_epochs = 100\n",
    "criterion = torch.nn.MSELoss(reduction='mean')\n",
    "optimiser = torch.optim.Adam(model.parameters(), lr=0.01)"
   ]
  },
  {
   "cell_type": "code",
   "execution_count": 15,
   "metadata": {},
   "outputs": [
    {
     "name": "stdout",
     "output_type": "stream",
     "text": [
      "Epoch  0 MSE:  0.0010884853545576334\n",
      "Epoch  1 MSE:  0.0010849826503545046\n",
      "Epoch  2 MSE:  0.0010792349930852652\n",
      "Epoch  3 MSE:  0.00107480282895267\n",
      "Epoch  4 MSE:  0.0010722068836912513\n",
      "Epoch  5 MSE:  0.0010679637780413032\n",
      "Epoch  6 MSE:  0.0010637312661856413\n",
      "Epoch  7 MSE:  0.0010611442849040031\n",
      "Epoch  8 MSE:  0.0010577291250228882\n",
      "Epoch  9 MSE:  0.0010539983632043004\n",
      "Epoch  10 MSE:  0.0010516432812437415\n",
      "Epoch  11 MSE:  0.001048924634233117\n",
      "Epoch  12 MSE:  0.0010455854935571551\n",
      "Epoch  13 MSE:  0.0010431524133309722\n",
      "Epoch  14 MSE:  0.0010406924411654472\n",
      "Epoch  15 MSE:  0.0010377130238339305\n",
      "Epoch  16 MSE:  0.0010353962425142527\n",
      "Epoch  17 MSE:  0.0010331737576052547\n",
      "Epoch  18 MSE:  0.0010304453317075968\n",
      "Epoch  19 MSE:  0.0010281003778800368\n",
      "Epoch  20 MSE:  0.0010258967522531748\n",
      "Epoch  21 MSE:  0.0010233311913907528\n",
      "Epoch  22 MSE:  0.0010210402542725205\n",
      "Epoch  23 MSE:  0.001018884708173573\n",
      "Epoch  24 MSE:  0.0010164203122258186\n",
      "Epoch  25 MSE:  0.0010141037637367845\n",
      "Epoch  26 MSE:  0.001011903048492968\n",
      "Epoch  27 MSE:  0.001009489526040852\n",
      "Epoch  28 MSE:  0.0010071923024952412\n",
      "Epoch  29 MSE:  0.0010049863485619426\n",
      "Epoch  30 MSE:  0.0010026060044765472\n",
      "Epoch  31 MSE:  0.001000292832031846\n",
      "Epoch  32 MSE:  0.0009980484610423446\n",
      "Epoch  33 MSE:  0.0009956875583156943\n",
      "Epoch  34 MSE:  0.0009933898691087961\n",
      "Epoch  35 MSE:  0.0009911422384902835\n",
      "Epoch  36 MSE:  0.0009888014756143093\n",
      "Epoch  37 MSE:  0.000986503786407411\n",
      "Epoch  38 MSE:  0.00098424160387367\n",
      "Epoch  39 MSE:  0.0009819194674491882\n",
      "Epoch  40 MSE:  0.0009796407539397478\n",
      "Epoch  41 MSE:  0.000977385905571282\n",
      "Epoch  42 MSE:  0.0009750847239047289\n",
      "Epoch  43 MSE:  0.0009728163713589311\n",
      "Epoch  44 MSE:  0.0009705635602585971\n",
      "Epoch  45 MSE:  0.0009682826930657029\n",
      "Epoch  46 MSE:  0.0009660337236709893\n",
      "Epoch  47 MSE:  0.0009637930197641253\n",
      "Epoch  48 MSE:  0.0009615316521376371\n",
      "Epoch  49 MSE:  0.0009592947899363935\n",
      "Epoch  50 MSE:  0.0009570621186867356\n",
      "Epoch  51 MSE:  0.0009548192610964179\n",
      "Epoch  52 MSE:  0.0009525985224172473\n",
      "Epoch  53 MSE:  0.0009503784240223467\n",
      "Epoch  54 MSE:  0.0009481522138230503\n",
      "Epoch  55 MSE:  0.0009459429420530796\n",
      "Epoch  56 MSE:  0.000943732971791178\n",
      "Epoch  57 MSE:  0.0009415227686986327\n",
      "Epoch  58 MSE:  0.0009393268264830112\n",
      "Epoch  59 MSE:  0.0009371290216222405\n",
      "Epoch  60 MSE:  0.0009349330211989582\n",
      "Epoch  61 MSE:  0.0009327473235316575\n",
      "Epoch  62 MSE:  0.0009305605199187994\n",
      "Epoch  63 MSE:  0.0009283783729188144\n",
      "Epoch  64 MSE:  0.0009262044331990182\n",
      "Epoch  65 MSE:  0.0009240296785719693\n",
      "Epoch  66 MSE:  0.0009218601044267416\n",
      "Epoch  67 MSE:  0.0009196965838782489\n",
      "Epoch  68 MSE:  0.0009175335289910436\n",
      "Epoch  69 MSE:  0.0009153768769465387\n",
      "Epoch  70 MSE:  0.0009132247650995851\n",
      "Epoch  71 MSE:  0.0009110740502364933\n",
      "Epoch  72 MSE:  0.0009089295053854585\n",
      "Epoch  73 MSE:  0.0009067885112017393\n",
      "Epoch  74 MSE:  0.0009046500781551003\n",
      "Epoch  75 MSE:  0.0009025177569128573\n",
      "Epoch  76 MSE:  0.0009003888699226081\n",
      "Epoch  77 MSE:  0.0008982634753920138\n",
      "Epoch  78 MSE:  0.0008961434941738844\n",
      "Epoch  79 MSE:  0.000894026889000088\n",
      "Epoch  80 MSE:  0.000891914707608521\n",
      "Epoch  81 MSE:  0.0008898074156604707\n",
      "Epoch  82 MSE:  0.0008877039072103798\n",
      "Epoch  83 MSE:  0.0008856051135808229\n",
      "Epoch  84 MSE:  0.0008835109183564782\n",
      "Epoch  85 MSE:  0.0008814208558760583\n",
      "Epoch  86 MSE:  0.0008793360320851207\n",
      "Epoch  87 MSE:  0.000877255224622786\n",
      "Epoch  88 MSE:  0.0008751792483963072\n",
      "Epoch  89 MSE:  0.0008731084526516497\n",
      "Epoch  90 MSE:  0.0008710421971045434\n",
      "Epoch  91 MSE:  0.0008689807145856321\n",
      "Epoch  92 MSE:  0.000866924412548542\n",
      "Epoch  93 MSE:  0.000864872825331986\n",
      "Epoch  94 MSE:  0.0008628263021819293\n",
      "Epoch  95 MSE:  0.0008607847848907113\n",
      "Epoch  96 MSE:  0.0008587484480813146\n",
      "Epoch  97 MSE:  0.0008567173499614\n",
      "Epoch  98 MSE:  0.0008546916651539505\n",
      "Epoch  99 MSE:  0.0008526707533746958\n",
      "Training time: 17.03354525566101\n"
     ]
    }
   ],
   "source": [
    "hist = np.zeros(num_epochs)\n",
    "start_time = time.time()\n",
    "\n",
    "for t in range(num_epochs):\n",
    "    y_train_pred = model(x_train_torch)\n",
    "\n",
    "    loss = criterion(y_train_pred, y_train_torch)\n",
    "    print(\"Epoch \", t, \"MSE: \", loss.item())\n",
    "    hist[t] = loss.item()\n",
    "\n",
    "    optimiser.zero_grad()\n",
    "    loss.backward()\n",
    "    optimiser.step()\n",
    "\n",
    "training_time = time.time()-start_time\n",
    "print(\"Training time: {}\".format(training_time))"
   ]
  },
  {
   "cell_type": "code",
   "execution_count": 16,
   "metadata": {},
   "outputs": [
    {
     "data": {
      "image/png": "[encoded data removed]",
      "text/plain": [
       "<Figure size 432x288 with 1 Axes>"
      ]
     },
     "metadata": {
      "needs_background": "light"
     },
     "output_type": "display_data"
    }
   ],
   "source": [
    "y_train_model = scaler.inverse_transform(y_train_pred.detach().numpy())\n",
    "y_train_original = scaler.inverse_transform(y_train)\n",
    "\n",
    "#####Visulization\n",
    "plt.plot(y_train_original, color = 'red', label = 'BTC True Price')\n",
    "plt.plot(y_train_model, color = 'blue', label = 'BTC predicted Price')\n",
    "plt.title('BTC Price')\n",
    "plt.legend(['Training Prediction (GRU)','Data'])\n",
    "plt.show()"
   ]
  },
  {
   "cell_type": "markdown",
   "metadata": {},
   "source": [
    "## 4. Predict on the testset"
   ]
  },
  {
   "cell_type": "code",
   "execution_count": 17,
   "metadata": {},
   "outputs": [],
   "source": [
    "y_test_pred = model(x_test_torch)\n",
    "\n",
    "y_test_model = scaler.inverse_transform(y_test_pred.detach().numpy())\n",
    "y_test_original = scaler.inverse_transform(y_test)"
   ]
  },
  {
   "cell_type": "code",
   "execution_count": 18,
   "metadata": {},
   "outputs": [
    {
     "name": "stdout",
     "output_type": "stream",
     "text": [
      "Train Score: 495.47 RMSE\n",
      "Test Score: 383.76 RMSE\n"
     ]
    }
   ],
   "source": [
    "# 计算实际损失\n",
    "trainScore = math.sqrt(mean_squared_error(y_train_original, y_train_model))\n",
    "print('Train Score: %.2f RMSE' % (trainScore))\n",
    "testScore = math.sqrt(mean_squared_error(y_test_original, y_test_model))\n",
    "print('Test Score: %.2f RMSE' % (testScore))"
   ]
  },
  {
   "cell_type": "markdown",
   "metadata": {},
   "source": [
    "## 5. Visualization"
   ]
  },
  {
   "cell_type": "code",
   "execution_count": 19,
   "metadata": {},
   "outputs": [
    {
     "data": {
      "image/png": "[encoded data removed]",
      "text/plain": [
       "<Figure size 432x288 with 1 Axes>"
      ]
     },
     "metadata": {
      "needs_background": "light"
     },
     "output_type": "display_data"
    }
   ],
   "source": [
    "#####Visulization\n",
    "plt.plot(y_test_original, color = 'red', label = 'BTC True Price')\n",
    "plt.plot(y_test_model, color = 'blue', label = 'BTC predicted Price')\n",
    "plt.title('BTC Price')\n",
    "plt.legend(['Training Prediction (GRU)','Data'])\n",
    "plt.show()"
   ]
  },
  {
   "cell_type": "code",
   "execution_count": 20,
   "metadata": {},
   "outputs": [
    {
     "data": {
      "image/png": "[encoded data removed]",
      "text/plain": [
       "<Figure size 432x288 with 1 Axes>"
      ]
     },
     "metadata": {
      "needs_background": "light"
     },
     "output_type": "display_data"
    }
   ],
   "source": [
    "## Show all curve\n",
    "plt.plot(y_train_original, color = 'red', label = 'BTC True Price')\n",
    "plt.plot(y_train_model, color = 'blue', label = 'BTC predicted Price')\n",
    "plt.title('BTC Price')\n",
    "plt.legend(['Training Prediction (GRU)','Data'])\n",
    "\n",
    "### add the x-information\n",
    "N_original, N_test = len(y_train_original),len(y_test_model)\n",
    "index_test = [i for i in range(0,N_test)]\n",
    "index_test = np.array(index_test).reshape(-1,1) + N_original\n",
    "\n",
    "plt.plot(index_test, y_test_original, color = 'green', label = 'BTC True Price')\n",
    "plt.plot(index_test, y_test_model, color = 'red', label = 'BTC predicted Price')\n",
    "plt.show()"
   ]
  },
  {
   "cell_type": "code",
   "execution_count": null,
   "metadata": {},
   "outputs": [],
   "source": []
  }
 ],
 "metadata": {
  "kernelspec": {
   "display_name": "Python 3",
   "language": "python",
   "name": "python3"
  },
  "language_info": {
   "codemirror_mode": {
    "name": "ipython",
    "version": 3
   },
   "file_extension": ".py",
   "mimetype": "text/x-python",
   "name": "python",
   "nbconvert_exporter": "python",
   "pygments_lexer": "ipython3",
   "version": "3.8.6"
  }
 },
 "nbformat": 4,
 "nbformat_minor": 4
}
