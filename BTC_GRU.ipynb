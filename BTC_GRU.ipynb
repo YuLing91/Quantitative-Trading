{
 "cells": [
  {
   "cell_type": "markdown",
   "metadata": {},
   "source": [
    "## Using GRU to predict Bit Coin Currency\n",
    "\n",
    "Edited by Una\n",
    "Date: 2021-07-14\n"
   ]
  },
  {
   "cell_type": "markdown",
   "metadata": {},
   "source": [
    "#### Install packages:\n",
    "\n",
    "> pip3 install -r requirement.txt\n",
    "\n",
    "requirement.txt\n",
    "\n",
    "numpy\n",
    "pandas\n",
    "matplotlib\n",
    "sklearn\n",
    "torch\n",
    "seaborn"
   ]
  },
  {
   "cell_type": "code",
   "execution_count": 1,
   "metadata": {},
   "outputs": [],
   "source": [
    "import numpy as np\n",
    "import pandas as pd\n",
    "import matplotlib.pyplot as plt\n",
    "from sklearn.preprocessing import MinMaxScaler\n",
    "import torch\n",
    "import math, time\n",
    "import torch.nn as nn\n",
    "from sklearn.metrics import mean_squared_error"
   ]
  },
  {
   "cell_type": "markdown",
   "metadata": {},
   "source": [
    "## 1. Loadin data and data preprocessing\n",
    "\n",
    "normalization for close price : \n",
    "\n",
    "[MinMaxScaler](https://scikit-learn.org/stable/modules/generated/sklearn.preprocessing.MinMaxScaler.html)"
   ]
  },
  {
   "cell_type": "code",
   "execution_count": 2,
   "metadata": {},
   "outputs": [],
   "source": [
    "### Loadin the csv data\n",
    "dataset = pd.read_csv(\"BTC.csv\", header=None, names = [\"date\",\"close\",\"vol\"], index_col=0, parse_dates=True)"
   ]
  },
  {
   "cell_type": "code",
   "execution_count": 3,
   "metadata": {},
   "outputs": [
    {
     "name": "stdout",
     "output_type": "stream",
     "text": [
      "<class 'pandas.core.frame.DataFrame'>\n",
      "DatetimeIndex: 1089 entries, 2017-07-23 to 2020-07-15\n",
      "Data columns (total 2 columns):\n",
      " #   Column  Non-Null Count  Dtype  \n",
      "---  ------  --------------  -----  \n",
      " 0   close   1089 non-null   float64\n",
      " 1   vol     1089 non-null   float64\n",
      "dtypes: float64(2)\n",
      "memory usage: 25.5 KB\n",
      "None\n"
     ]
    },
    {
     "data": {
      "text/html": [
       "<div>\n",
       "<style scoped>\n",
       "    .dataframe tbody tr th:only-of-type {\n",
       "        vertical-align: middle;\n",
       "    }\n",
       "\n",
       "    .dataframe tbody tr th {\n",
       "        vertical-align: top;\n",
       "    }\n",
       "\n",
       "    .dataframe thead th {\n",
       "        text-align: right;\n",
       "    }\n",
       "</style>\n",
       "<table border=\"1\" class=\"dataframe\">\n",
       "  <thead>\n",
       "    <tr style=\"text-align: right;\">\n",
       "      <th></th>\n",
       "      <th>close</th>\n",
       "      <th>vol</th>\n",
       "    </tr>\n",
       "    <tr>\n",
       "      <th>date</th>\n",
       "      <th></th>\n",
       "      <th></th>\n",
       "    </tr>\n",
       "  </thead>\n",
       "  <tbody>\n",
       "    <tr>\n",
       "      <th>2017-07-23</th>\n",
       "      <td>2730.40</td>\n",
       "      <td>1.072840e+09</td>\n",
       "    </tr>\n",
       "    <tr>\n",
       "      <th>2017-07-24</th>\n",
       "      <td>2754.86</td>\n",
       "      <td>8.664740e+08</td>\n",
       "    </tr>\n",
       "    <tr>\n",
       "      <th>2017-07-25</th>\n",
       "      <td>2576.48</td>\n",
       "      <td>1.460090e+09</td>\n",
       "    </tr>\n",
       "    <tr>\n",
       "      <th>2017-07-26</th>\n",
       "      <td>2529.45</td>\n",
       "      <td>9.374040e+08</td>\n",
       "    </tr>\n",
       "    <tr>\n",
       "      <th>2017-07-27</th>\n",
       "      <td>2671.78</td>\n",
       "      <td>7.891040e+08</td>\n",
       "    </tr>\n",
       "  </tbody>\n",
       "</table>\n",
       "</div>"
      ],
      "text/plain": [
       "              close           vol\n",
       "date                             \n",
       "2017-07-23  2730.40  1.072840e+09\n",
       "2017-07-24  2754.86  8.664740e+08\n",
       "2017-07-25  2576.48  1.460090e+09\n",
       "2017-07-26  2529.45  9.374040e+08\n",
       "2017-07-27  2671.78  7.891040e+08"
      ]
     },
     "execution_count": 3,
     "metadata": {},
     "output_type": "execute_result"
    }
   ],
   "source": [
    "print(dataset.info())\n",
    "dataset.head()"
   ]
  },
  {
   "cell_type": "code",
   "execution_count": 4,
   "metadata": {},
   "outputs": [],
   "source": [
    "## Close price normalization to 0-1\n",
    "scaler = MinMaxScaler()# default feature_range=(0,1)\n",
    "dataset_scaled = scaler.fit_transform(dataset.close.values.reshape(-1,1))"
   ]
  },
  {
   "cell_type": "code",
   "execution_count": 5,
   "metadata": {},
   "outputs": [],
   "source": [
    "## Convert the normalized close price to a vector of lookback-dimension with lookback history data\n",
    "def split_data(stock, lookback):\n",
    "    data = []\n",
    "    for index in range(len(stock) - lookback):\n",
    "        data.append(stock[index: index + lookback])\n",
    "\n",
    "    data = np.array(data)\n",
    "    train_val_slip = int(0.8* data.shape[0])\n",
    "\n",
    "\n",
    "    x_train = data[:train_val_slip,:-1,:]\n",
    "    y_train = data[:train_val_slip,-1,:]\n",
    "\n",
    "    x_test = data[train_val_slip:,:-1]\n",
    "    y_test = data[train_val_slip:,-1,:]\n",
    "\n",
    "    return [x_train, y_train, x_test, y_test]\n",
    "\n",
    "lookback = 20 \n",
    "x_train, y_train, x_test, y_test = split_data(dataset_scaled, lookback)\n",
    "x_train_torch = torch.from_numpy(x_train).type(torch.Tensor)\n",
    "x_test_torch = torch.from_numpy(x_test).type(torch.Tensor)\n",
    "y_train_torch = torch.from_numpy(y_train).type(torch.Tensor)\n",
    "y_test_torch = torch.from_numpy(y_test).type(torch.Tensor)"
   ]
  },
  {
   "cell_type": "markdown",
   "metadata": {},
   "source": [
    "## 2. Creat NN model"
   ]
  },
  {
   "cell_type": "code",
   "execution_count": 6,
   "metadata": {},
   "outputs": [],
   "source": [
    "class GRU(nn.Module):\n",
    "    def __init__(self, input_dim, hidden_dim, num_layers, output_dim):\n",
    "        super(GRU, self).__init__()\n",
    "        self.hidden_dim = hidden_dim\n",
    "        self.num_layers = num_layers\n",
    "\n",
    "        self.gru = nn.GRU(input_dim, hidden_dim, num_layers, batch_first=True)\n",
    "        self.fc = nn.Linear(hidden_dim, output_dim)\n",
    "\n",
    "    def forward(self, x):\n",
    "        h0 = torch.zeros(self.num_layers, x.size(0), self.hidden_dim).requires_grad_()\n",
    "        out, (hn) = self.gru(x, (h0.detach()))\n",
    "        out = self.fc(out[:, -1, :])\n",
    "        return out\n"
   ]
  },
  {
   "cell_type": "code",
   "execution_count": 7,
   "metadata": {},
   "outputs": [],
   "source": [
    "input_dim = 1\n",
    "hidden_dim = 32\n",
    "num_layers = 2\n",
    "output_dim = 1\n",
    "model = GRU(input_dim=input_dim, hidden_dim=hidden_dim, output_dim=output_dim, num_layers=num_layers)"
   ]
  },
  {
   "cell_type": "markdown",
   "metadata": {},
   "source": [
    "## 3. Train the model"
   ]
  },
  {
   "cell_type": "code",
   "execution_count": 8,
   "metadata": {},
   "outputs": [],
   "source": [
    "num_epochs = 100\n",
    "criterion = torch.nn.MSELoss(reduction='mean')\n",
    "optimiser = torch.optim.Adam(model.parameters(), lr=0.01)"
   ]
  },
  {
   "cell_type": "code",
   "execution_count": 11,
   "metadata": {},
   "outputs": [
    {
     "name": "stdout",
     "output_type": "stream",
     "text": [
      "Epoch  0 MSE:  0.0006467095809057355\n",
      "Epoch  1 MSE:  0.0006450855871662498\n",
      "Epoch  2 MSE:  0.0006448421627283096\n",
      "Epoch  3 MSE:  0.0006443451857194304\n",
      "Epoch  4 MSE:  0.0006427306798286736\n",
      "Epoch  5 MSE:  0.0006411959766410291\n",
      "Epoch  6 MSE:  0.0006405481253750622\n",
      "Epoch  7 MSE:  0.0006398685509338975\n",
      "Epoch  8 MSE:  0.0006384334992617369\n",
      "Epoch  9 MSE:  0.0006369801121763885\n",
      "Epoch  10 MSE:  0.0006361924461089075\n",
      "Epoch  11 MSE:  0.000635538948699832\n",
      "Epoch  12 MSE:  0.0006344405701383948\n",
      "Epoch  13 MSE:  0.000633298244792968\n",
      "Epoch  14 MSE:  0.0006325942231342196\n",
      "Epoch  15 MSE:  0.0006319976528175175\n",
      "Epoch  16 MSE:  0.0006310759927146137\n",
      "Epoch  17 MSE:  0.0006300700479187071\n",
      "Epoch  18 MSE:  0.0006293320329859853\n",
      "Epoch  19 MSE:  0.0006286698044277728\n",
      "Epoch  20 MSE:  0.0006277984939515591\n",
      "Epoch  21 MSE:  0.0006268859724514186\n",
      "Epoch  22 MSE:  0.0006261778762564063\n",
      "Epoch  23 MSE:  0.0006255429470911622\n",
      "Epoch  24 MSE:  0.0006247833953239024\n",
      "Epoch  25 MSE:  0.0006240106886252761\n",
      "Epoch  26 MSE:  0.000623378437012434\n",
      "Epoch  27 MSE:  0.0006227802368812263\n",
      "Epoch  28 MSE:  0.0006220873328857124\n",
      "Epoch  29 MSE:  0.0006213879096321762\n",
      "Epoch  30 MSE:  0.0006207806873135269\n",
      "Epoch  31 MSE:  0.0006201871437951922\n",
      "Epoch  32 MSE:  0.000619534810539335\n",
      "Epoch  33 MSE:  0.0006188977276906371\n",
      "Epoch  34 MSE:  0.000618332123849541\n",
      "Epoch  35 MSE:  0.0006177746108733118\n",
      "Epoch  36 MSE:  0.0006171846180222929\n",
      "Epoch  37 MSE:  0.0006166173261590302\n",
      "Epoch  38 MSE:  0.0006160971825011075\n",
      "Epoch  39 MSE:  0.0006155731971375644\n",
      "Epoch  40 MSE:  0.0006150291883386672\n",
      "Epoch  41 MSE:  0.0006145074148662388\n",
      "Epoch  42 MSE:  0.0006140153855085373\n",
      "Epoch  43 MSE:  0.0006135183502919972\n",
      "Epoch  44 MSE:  0.0006130156689323485\n",
      "Epoch  45 MSE:  0.0006125374929979444\n",
      "Epoch  46 MSE:  0.0006120798061601818\n",
      "Epoch  47 MSE:  0.0006116185104474425\n",
      "Epoch  48 MSE:  0.0006111605907790363\n",
      "Epoch  49 MSE:  0.0006107230437919497\n",
      "Epoch  50 MSE:  0.0006102964980527759\n",
      "Epoch  51 MSE:  0.0006098671001382172\n",
      "Epoch  52 MSE:  0.0006094446871429682\n",
      "Epoch  53 MSE:  0.0006090379320085049\n",
      "Epoch  54 MSE:  0.0006086373468860984\n",
      "Epoch  55 MSE:  0.000608237402047962\n",
      "Epoch  56 MSE:  0.0006078479345887899\n",
      "Epoch  57 MSE:  0.0006074707489460707\n",
      "Epoch  58 MSE:  0.000607097172178328\n",
      "Epoch  59 MSE:  0.0006067276117391884\n",
      "Epoch  60 MSE:  0.0006063678883947432\n",
      "Epoch  61 MSE:  0.000606016197707504\n",
      "Epoch  62 MSE:  0.0006056671845726669\n",
      "Epoch  63 MSE:  0.000605323351919651\n",
      "Epoch  64 MSE:  0.0006049882504157722\n",
      "Epoch  65 MSE:  0.0006046582129783928\n",
      "Epoch  66 MSE:  0.0006043316097930074\n",
      "Epoch  67 MSE:  0.0006040112930350006\n",
      "Epoch  68 MSE:  0.0006036979611963034\n",
      "Epoch  69 MSE:  0.0006033884710632265\n",
      "Epoch  70 MSE:  0.000603083404712379\n",
      "Epoch  71 MSE:  0.0006027842755429447\n",
      "Epoch  72 MSE:  0.0006024902104400098\n",
      "Epoch  73 MSE:  0.0006021998124197125\n",
      "Epoch  74 MSE:  0.0006019136635586619\n",
      "Epoch  75 MSE:  0.0006016329862177372\n",
      "Epoch  76 MSE:  0.0006013563252054155\n",
      "Epoch  77 MSE:  0.000601083564106375\n",
      "Epoch  78 MSE:  0.0006008152849972248\n",
      "Epoch  79 MSE:  0.0006005518371239305\n",
      "Epoch  80 MSE:  0.0006002917070873082\n",
      "Epoch  81 MSE:  0.0006000357097946107\n",
      "Epoch  82 MSE:  0.0005997840198688209\n",
      "Epoch  83 MSE:  0.0005995362880639732\n",
      "Epoch  84 MSE:  0.0005992917576804757\n",
      "Epoch  85 MSE:  0.0005990512436255813\n",
      "Epoch  86 MSE:  0.000598814629483968\n",
      "Epoch  87 MSE:  0.0005985812749713659\n",
      "Epoch  88 MSE:  0.0005983515875414014\n",
      "Epoch  89 MSE:  0.0005981255671940744\n",
      "Epoch  90 MSE:  0.0005979028646834195\n",
      "Epoch  91 MSE:  0.0005976835382170975\n",
      "Epoch  92 MSE:  0.0005974673549644649\n",
      "Epoch  93 MSE:  0.000597254722379148\n",
      "Epoch  94 MSE:  0.0005970450583845377\n",
      "Epoch  95 MSE:  0.0005968385376036167\n",
      "Epoch  96 MSE:  0.000596635218244046\n",
      "Epoch  97 MSE:  0.0005964350420981646\n",
      "Epoch  98 MSE:  0.0005962375435046852\n",
      "Epoch  99 MSE:  0.0005960431299172342\n",
      "Training time: 7.9653098583221436\n"
     ]
    }
   ],
   "source": [
    "hist = np.zeros(num_epochs)\n",
    "start_time = time.time()\n",
    "\n",
    "for t in range(num_epochs):\n",
    "    y_train_pred = model(x_train_torch)\n",
    "\n",
    "    loss = criterion(y_train_pred, y_train_torch)\n",
    "    print(\"Epoch \", t, \"MSE: \", loss.item())\n",
    "    hist[t] = loss.item()\n",
    "\n",
    "    optimiser.zero_grad()\n",
    "    loss.backward()\n",
    "    optimiser.step()\n",
    "\n",
    "training_time = time.time()-start_time\n",
    "print(\"Training time: {}\".format(training_time))"
   ]
  },
  {
   "cell_type": "code",
   "execution_count": 22,
   "metadata": {},
   "outputs": [
    {
     "data": {
      "image/png": "[encoded data removed]",
      "text/plain": [
       "<Figure size 432x288 with 1 Axes>"
      ]
     },
     "metadata": {
      "needs_background": "light"
     },
     "output_type": "display_data"
    }
   ],
   "source": [
    "y_train_model = scaler.inverse_transform(y_train_pred.detach().numpy())\n",
    "y_train_original = scaler.inverse_transform(y_train)\n",
    "\n",
    "#####Visulization\n",
    "plt.plot(y_train_original, color = 'red', label = 'BTC True Price')\n",
    "plt.plot(y_train_model, color = 'blue', label = 'BTC predicted Price')\n",
    "plt.title('BTC Price')\n",
    "plt.legend(['Training Prediction (GRU)','Data'])\n",
    "plt.show()"
   ]
  },
  {
   "cell_type": "markdown",
   "metadata": {},
   "source": [
    "## 4. Predict on the testset"
   ]
  },
  {
   "cell_type": "code",
   "execution_count": 23,
   "metadata": {},
   "outputs": [],
   "source": [
    "y_test_pred = model(x_test_torch)\n",
    "\n",
    "y_test_model = scaler.inverse_transform(y_test_pred.detach().numpy())\n",
    "y_test_original = scaler.inverse_transform(y_test)"
   ]
  },
  {
   "cell_type": "code",
   "execution_count": 24,
   "metadata": {},
   "outputs": [
    {
     "name": "stdout",
     "output_type": "stream",
     "text": [
      "Train Score: 414.26 RMSE\n",
      "Test Score: 327.39 RMSE\n"
     ]
    }
   ],
   "source": [
    "# 计算实际损失\n",
    "trainScore = math.sqrt(mean_squared_error(y_train_original, y_train_model))\n",
    "print('Train Score: %.2f RMSE' % (trainScore))\n",
    "testScore = math.sqrt(mean_squared_error(y_test_original, y_test_model))\n",
    "print('Test Score: %.2f RMSE' % (testScore))"
   ]
  },
  {
   "cell_type": "markdown",
   "metadata": {},
   "source": [
    "## 5. Visualization"
   ]
  },
  {
   "cell_type": "code",
   "execution_count": 25,
   "metadata": {},
   "outputs": [
    {
     "data": {
      "image/png": "[encoded data removed]",
      "text/plain": [
       "<Figure size 432x288 with 1 Axes>"
      ]
     },
     "metadata": {
      "needs_background": "light"
     },
     "output_type": "display_data"
    }
   ],
   "source": [
    "#####Visulization\n",
    "plt.plot(y_test_original, color = 'red', label = 'BTC True Price')\n",
    "plt.plot(y_test_model, color = 'blue', label = 'BTC predicted Price')\n",
    "plt.title('BTC Price')\n",
    "plt.legend(['Training Prediction (GRU)','Data'])\n",
    "plt.show()"
   ]
  },
  {
   "cell_type": "code",
   "execution_count": 26,
   "metadata": {},
   "outputs": [
    {
     "data": {
      "image/png": "[encoded data removed]",
      "text/plain": [
       "<Figure size 432x288 with 1 Axes>"
      ]
     },
     "metadata": {
      "needs_background": "light"
     },
     "output_type": "display_data"
    }
   ],
   "source": [
    "## Show all curve\n",
    "plt.plot(y_train_original, color = 'red', label = 'BTC True Price')\n",
    "plt.plot(y_train_model, color = 'blue', label = 'BTC predicted Price')\n",
    "plt.title('BTC Price')\n",
    "plt.legend(['Training Prediction (GRU)','Data'])\n",
    "\n",
    "### add the x-information\n",
    "N_original, N_test = len(y_train_original),len(y_test_model)\n",
    "index_test = [i for i in range(0,N_test)]\n",
    "index_test = np.array(index_test).reshape(-1,1) + N_original\n",
    "\n",
    "plt.plot(index_test, y_test_original, color = 'green', label = 'BTC True Price')\n",
    "plt.plot(index_test, y_test_model, color = 'red', label = 'BTC predicted Price')\n",
    "plt.show()"
   ]
  },
  {
   "cell_type": "code",
   "execution_count": null,
   "metadata": {},
   "outputs": [],
   "source": []
  },
  {
   "cell_type": "code",
   "execution_count": null,
   "metadata": {},
   "outputs": [],
   "source": []
  }
 ],
 "metadata": {
  "kernelspec": {
   "display_name": "Python 3",
   "language": "python",
   "name": "python3"
  },
  "language_info": {
   "codemirror_mode": {
    "name": "ipython",
    "version": 3
   },
   "file_extension": ".py",
   "mimetype": "text/x-python",
   "name": "python",
   "nbconvert_exporter": "python",
   "pygments_lexer": "ipython3",
   "version": "3.8.6"
  }
 },
 "nbformat": 4,
 "nbformat_minor": 4
}
